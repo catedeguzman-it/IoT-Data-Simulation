{
 "cells": [
  {
   "cell_type": "markdown",
   "id": "f3f000a2",
   "metadata": {},
   "source": [
    "# Week 6: Data Retrieval and Processing"
   ]
  },
  {
   "cell_type": "markdown",
   "id": "ea078b70",
   "metadata": {},
   "source": [
    "1. Retrieve your Milestone 1 output to start the retrieval process.\n",
    "2. Get the total number of stored records:\n"
   ]
  },
  {
   "cell_type": "code",
   "execution_count": 7,
   "id": "38c25e7f",
   "metadata": {},
   "outputs": [
    {
     "name": "stdout",
     "output_type": "stream",
     "text": [
      "Total IoT records stored: 195\n"
     ]
    }
   ],
   "source": [
    "from web3 import Web3\n",
    "\n",
    "# Connect to local Ethereum node (update the provider if needed)\n",
    "w3 = Web3(Web3.HTTPProvider('http://127.0.0.1:7545'))\n",
    "\n",
    "# Replace with your contract's ABI and address\n",
    "contract_abi = [\n",
    "\t{\n",
    "\t\t\"inputs\": [],\n",
    "\t\t\"name\": \"getTotalRecords\",\n",
    "\t\t\"outputs\": [{\"internalType\": \"uint256\", \"name\": \"\", \"type\": \"uint256\"}],\n",
    "\t\t\"stateMutability\": \"view\",\n",
    "\t\t\"type\": \"function\"\n",
    "\t}\n",
    "]\n",
    "contract_address = w3.to_checksum_address('0x069af8b9480dcb0001eb618a72d1ff57c3e350de')  # <-- insert your contract address here\n",
    "\n",
    "contract = w3.eth.contract(address=contract_address, abi=contract_abi)\n",
    "\n",
    "total_records = contract.functions.getTotalRecords().call()\n",
    "print(f\"Total IoT records stored: {total_records}\")"
   ]
  },
  {
   "cell_type": "markdown",
   "id": "795dd7f0",
   "metadata": {},
   "source": [
    "3. Fetch all stored IoT data and structure it in a DataFrame:"
   ]
  },
  {
   "cell_type": "code",
   "execution_count": 8,
   "id": "77fb038a",
   "metadata": {},
   "outputs": [
    {
     "name": "stdout",
     "output_type": "stream",
     "text": [
      "            timestamp device_id    data_type data_value\n",
      "0 2025-06-19 05:45:08    DVC776  temperature       1.97\n",
      "1 2025-06-19 05:45:09    DVC684  temperature      14.29\n",
      "2 2025-06-19 05:45:10    DVC379  temperature      15.78\n",
      "3 2025-06-19 05:45:11    DVC605  temperature       9.33\n",
      "4 2025-06-19 05:45:12    DVC621  temperature      16.98\n"
     ]
    }
   ],
   "source": [
    "# Only add if not already in contract_abi\n",
    "if not any(f.get(\"name\") == \"getRecord\" for f in contract_abi):\n",
    "    contract_abi.append(get_record_abi)\n",
    "    contract = w3.eth.contract(address=contract_address, abi=contract_abi)\n",
    "\n",
    "# Retrieve all IoT records\n",
    "data = []\n",
    "for i in range(total_records):\n",
    "    record = contract.functions.getRecord(i).call()\n",
    "    data.append({\n",
    "        \"timestamp\": record[0],\n",
    "        \"device_id\": record[1],\n",
    "        \"data_type\": record[2],\n",
    "        \"data_value\": record[3]\n",
    "    })\n",
    "\n",
    "# Convert to a DataFrame\n",
    "df = pd.DataFrame(data)\n",
    "\n",
    "# Convert timestamp to readable format\n",
    "df[\"timestamp\"] = pd.to_datetime(df[\"timestamp\"], unit=\"s\")\n",
    "\n",
    "# Display first few records\n",
    "print(df.head())"
   ]
  },
  {
   "cell_type": "markdown",
   "id": "46c14a55",
   "metadata": {},
   "source": [
    "4. After the data is structured and cleaned, it is preprocessed for further analysis. Convert numerical values where applicable:\n",
    " - Some IoT sensor readings may contain units or text (e.g., \"22.5°C\", \"50% humidity\", \"15.3 kWh\"). You need to extract the numerical values to make the data usable.\n",
    " ##### Identify missing values.\n",
    " * If missing values are minor, replace them with 0.\n",
    " * If missing values are significant, use the mean or median of the column.\n"
   ]
  },
  {
   "cell_type": "code",
   "execution_count": 9,
   "id": "f9f65b55",
   "metadata": {},
   "outputs": [
    {
     "name": "stdout",
     "output_type": "stream",
     "text": [
      "            timestamp device_id    data_type data_value  numeric_value\n",
      "0 2025-06-19 05:45:08    DVC776  temperature       1.97           1.97\n",
      "1 2025-06-19 05:45:09    DVC684  temperature      14.29          14.29\n",
      "2 2025-06-19 05:45:10    DVC379  temperature      15.78          15.78\n",
      "3 2025-06-19 05:45:11    DVC605  temperature       9.33           9.33\n",
      "4 2025-06-19 05:45:12    DVC621  temperature      16.98          16.98\n"
     ]
    }
   ],
   "source": [
    "import numpy as np\n",
    "\n",
    "\n",
    "# Extract numeric values from 'data_value' where applicable\n",
    "df[\"numeric_value\"] = df[\"data_value\"].str.extract(r'(\\d+\\.?\\d*)').astype(float)\n",
    "\n",
    "\n",
    "# Handle missing values (if any)\n",
    "df.fillna(0, inplace=True)\n",
    "\n",
    "\n",
    "\n",
    "# Display cleaned data\n",
    "print(df.head())\n"
   ]
  },
  {
   "cell_type": "markdown",
   "id": "c3823113",
   "metadata": {},
   "source": [
    "6. Save the DataFrame as a CSV file:"
   ]
  },
  {
   "cell_type": "code",
   "execution_count": 10,
   "id": "09be06b2",
   "metadata": {},
   "outputs": [
    {
     "name": "stdout",
     "output_type": "stream",
     "text": [
      "✅ Cleaned IoT data saved successfully as cleaned_iot_data.csv\n"
     ]
    }
   ],
   "source": [
    "# Save cleaned IoT data to a CSV file\n",
    "df.to_csv(\"cleaned_iot_data.csv\", index=False)\n",
    "\n",
    "\n",
    "print(\"✅ Cleaned IoT data saved successfully as cleaned_iot_data.csv\")"
   ]
  }
 ],
 "metadata": {
  "kernelspec": {
   "display_name": "Python 3",
   "language": "python",
   "name": "python3"
  },
  "language_info": {
   "codemirror_mode": {
    "name": "ipython",
    "version": 3
   },
   "file_extension": ".py",
   "mimetype": "text/x-python",
   "name": "python",
   "nbconvert_exporter": "python",
   "pygments_lexer": "ipython3",
   "version": "3.13.2"
  }
 },
 "nbformat": 4,
 "nbformat_minor": 5
}

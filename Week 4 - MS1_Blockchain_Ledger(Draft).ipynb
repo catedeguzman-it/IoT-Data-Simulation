{
 "cells": [
  {
   "cell_type": "markdown",
   "id": "05cb8e83",
   "metadata": {},
   "source": [
    "# Week 4 - Milestone 1: Smart Tracking System Blockchain Ledger (Draft)"
   ]
  },
  {
   "cell_type": "markdown",
   "id": "1a57f296",
   "metadata": {},
   "source": [
    "1. Open Jupyter Notebook.\n",
    "2. Verify that Ganache is running in the background. Open the app on your desktop to ensure it’s running.\n",
    "3. Write a script that establishes a Web3 connection to the Ganache RPC URL (http://127.0.0.1:7545). Note: Check the port number in the Ganache settings, whether it is 7545 or 8545, and replace it accordingly.\n",
    "4. Check if Python is successfully connected to the blockchain:"
   ]
  },
  {
   "cell_type": "code",
   "execution_count": 1,
   "id": "8245dd33",
   "metadata": {},
   "outputs": [
    {
     "name": "stdout",
     "output_type": "stream",
     "text": [
      "✅ Connected to Ganache successfully!\n"
     ]
    }
   ],
   "source": [
    "from web3 import Web3\n",
    "\n",
    "\n",
    "# Connect to local Ganache blockchain\n",
    "ganache_url = \"http://127.0.0.1:7545\"\n",
    "web3 = Web3(Web3.HTTPProvider(ganache_url))\n",
    "\n",
    "\n",
    "if web3.is_connected():\n",
    "    print(\"✅ Connected to Ganache successfully!\")\n",
    "else:\n",
    "    print(\"❌ Connection failed. Ensure Ganache is running.\")"
   ]
  },
  {
   "cell_type": "markdown",
   "id": "aed301fc",
   "metadata": {},
   "source": [
    "5. Retrieve and paste the contract address and ABI from Remix IDE. You can also retrieve these from your Homework 2.\n",
    "6. Ensure the smart contract is recognized and loaded in Python:"
   ]
  },
  {
   "cell_type": "code",
   "execution_count": 2,
   "id": "4aa83010",
   "metadata": {},
   "outputs": [
    {
     "name": "stdout",
     "output_type": "stream",
     "text": [
      "✅ Connected to Smart Contract at 0x6127eb02402608ad211d9f2009ed4d6f84d9814d\n"
     ]
    }
   ],
   "source": [
    "# Replace with actual contract address from Remix\n",
    "contract_address = \"0x6127eb02402608ad211d9f2009ed4d6f84d9814d\"\n",
    "\n",
    "\n",
    "# Paste the ABI from Remix\n",
    "import json\n",
    "\n",
    "abi_json = '''\n",
    "[\n",
    "\t{\n",
    "\t\t\"inputs\": [],\n",
    "\t\t\"stateMutability\": \"nonpayable\",\n",
    "\t\t\"type\": \"constructor\"\n",
    "\t},\n",
    "\t{\n",
    "\t\t\"anonymous\": false,\n",
    "\t\t\"inputs\": [\n",
    "\t\t\t{\n",
    "\t\t\t\t\"indexed\": false,\n",
    "\t\t\t\t\"internalType\": \"uint256\",\n",
    "\t\t\t\t\"name\": \"timestamp\",\n",
    "\t\t\t\t\"type\": \"uint256\"\n",
    "\t\t\t},\n",
    "\t\t\t{\n",
    "\t\t\t\t\"indexed\": false,\n",
    "\t\t\t\t\"internalType\": \"string\",\n",
    "\t\t\t\t\"name\": \"deviceId\",\n",
    "\t\t\t\t\"type\": \"string\"\n",
    "\t\t\t},\n",
    "\t\t\t{\n",
    "\t\t\t\t\"indexed\": false,\n",
    "\t\t\t\t\"internalType\": \"string\",\n",
    "\t\t\t\t\"name\": \"dataType\",\n",
    "\t\t\t\t\"type\": \"string\"\n",
    "\t\t\t},\n",
    "\t\t\t{\n",
    "\t\t\t\t\"indexed\": false,\n",
    "\t\t\t\t\"internalType\": \"string\",\n",
    "\t\t\t\t\"name\": \"dataValue\",\n",
    "\t\t\t\t\"type\": \"string\"\n",
    "\t\t\t}\n",
    "\t\t],\n",
    "\t\t\"name\": \"DataStored\",\n",
    "\t\t\"type\": \"event\"\n",
    "\t},\n",
    "\t{\n",
    "\t\t\"inputs\": [\n",
    "\t\t\t{\n",
    "\t\t\t\t\"internalType\": \"string\",\n",
    "\t\t\t\t\"name\": \"_deviceId\",\n",
    "\t\t\t\t\"type\": \"string\"\n",
    "\t\t\t},\n",
    "\t\t\t{\n",
    "\t\t\t\t\"internalType\": \"string\",\n",
    "\t\t\t\t\"name\": \"_dataType\",\n",
    "\t\t\t\t\"type\": \"string\"\n",
    "\t\t\t},\n",
    "\t\t\t{\n",
    "\t\t\t\t\"internalType\": \"string\",\n",
    "\t\t\t\t\"name\": \"_dataValue\",\n",
    "\t\t\t\t\"type\": \"string\"\n",
    "\t\t\t}\n",
    "\t\t],\n",
    "\t\t\"name\": \"storeData\",\n",
    "\t\t\"outputs\": [],\n",
    "\t\t\"stateMutability\": \"nonpayable\",\n",
    "\t\t\"type\": \"function\"\n",
    "\t},\n",
    "\t{\n",
    "\t\t\"inputs\": [\n",
    "\t\t\t{\n",
    "\t\t\t\t\"internalType\": \"uint256\",\n",
    "\t\t\t\t\"name\": \"\",\n",
    "\t\t\t\t\"type\": \"uint256\"\n",
    "\t\t\t}\n",
    "\t\t],\n",
    "\t\t\"name\": \"dataRecords\",\n",
    "\t\t\"outputs\": [\n",
    "\t\t\t{\n",
    "\t\t\t\t\"internalType\": \"uint256\",\n",
    "\t\t\t\t\"name\": \"timestamp\",\n",
    "\t\t\t\t\"type\": \"uint256\"\n",
    "\t\t\t},\n",
    "\t\t\t{\n",
    "\t\t\t\t\"internalType\": \"string\",\n",
    "\t\t\t\t\"name\": \"deviceId\",\n",
    "\t\t\t\t\"type\": \"string\"\n",
    "\t\t\t},\n",
    "\t\t\t{\n",
    "\t\t\t\t\"internalType\": \"string\",\n",
    "\t\t\t\t\"name\": \"dataType\",\n",
    "\t\t\t\t\"type\": \"string\"\n",
    "\t\t\t},\n",
    "\t\t\t{\n",
    "\t\t\t\t\"internalType\": \"string\",\n",
    "\t\t\t\t\"name\": \"dataValue\",\n",
    "\t\t\t\t\"type\": \"string\"\n",
    "\t\t\t}\n",
    "\t\t],\n",
    "\t\t\"stateMutability\": \"view\",\n",
    "\t\t\"type\": \"function\"\n",
    "\t},\n",
    "\t{\n",
    "\t\t\"inputs\": [\n",
    "\t\t\t{\n",
    "\t\t\t\t\"internalType\": \"uint256\",\n",
    "\t\t\t\t\"name\": \"index\",\n",
    "\t\t\t\t\"type\": \"uint256\"\n",
    "\t\t\t}\n",
    "\t\t],\n",
    "\t\t\"name\": \"getRecord\",\n",
    "\t\t\"outputs\": [\n",
    "\t\t\t{\n",
    "\t\t\t\t\"internalType\": \"uint256\",\n",
    "\t\t\t\t\"name\": \"\",\n",
    "\t\t\t\t\"type\": \"uint256\"\n",
    "\t\t\t},\n",
    "\t\t\t{\n",
    "\t\t\t\t\"internalType\": \"string\",\n",
    "\t\t\t\t\"name\": \"\",\n",
    "\t\t\t\t\"type\": \"string\"\n",
    "\t\t\t},\n",
    "\t\t\t{\n",
    "\t\t\t\t\"internalType\": \"string\",\n",
    "\t\t\t\t\"name\": \"\",\n",
    "\t\t\t\t\"type\": \"string\"\n",
    "\t\t\t},\n",
    "\t\t\t{\n",
    "\t\t\t\t\"internalType\": \"string\",\n",
    "\t\t\t\t\"name\": \"\",\n",
    "\t\t\t\t\"type\": \"string\"\n",
    "\t\t\t}\n",
    "\t\t],\n",
    "\t\t\"stateMutability\": \"view\",\n",
    "\t\t\"type\": \"function\"\n",
    "\t},\n",
    "\t{\n",
    "\t\t\"inputs\": [],\n",
    "\t\t\"name\": \"getTotalRecords\",\n",
    "\t\t\"outputs\": [\n",
    "\t\t\t{\n",
    "\t\t\t\t\"internalType\": \"uint256\",\n",
    "\t\t\t\t\"name\": \"\",\n",
    "\t\t\t\t\"type\": \"uint256\"\n",
    "\t\t\t}\n",
    "\t\t],\n",
    "\t\t\"stateMutability\": \"view\",\n",
    "\t\t\"type\": \"function\"\n",
    "\t},\n",
    "\t{\n",
    "\t\t\"inputs\": [],\n",
    "\t\t\"name\": \"MAX_ENTRIES\",\n",
    "\t\t\"outputs\": [\n",
    "\t\t\t{\n",
    "\t\t\t\t\"internalType\": \"uint256\",\n",
    "\t\t\t\t\"name\": \"\",\n",
    "\t\t\t\t\"type\": \"uint256\"\n",
    "\t\t\t}\n",
    "\t\t],\n",
    "\t\t\"stateMutability\": \"view\",\n",
    "\t\t\"type\": \"function\"\n",
    "\t},\n",
    "\t{\n",
    "\t\t\"inputs\": [],\n",
    "\t\t\"name\": \"owner\",\n",
    "\t\t\"outputs\": [\n",
    "\t\t\t{\n",
    "\t\t\t\t\"internalType\": \"address\",\n",
    "\t\t\t\t\"name\": \"\",\n",
    "\t\t\t\t\"type\": \"address\"\n",
    "\t\t\t}\n",
    "\t\t],\n",
    "\t\t\"stateMutability\": \"view\",\n",
    "\t\t\"type\": \"function\"\n",
    "\t}\n",
    "]\n",
    "'''\n",
    "\n",
    "\n",
    "# Now load it safely as a Python object\n",
    "abi = json.loads(abi_json)\n",
    "\n",
    "\n",
    "# Convert to Python-compatible dict\n",
    "abi = json.loads(abi_json)\n",
    "\n",
    "\n",
    "# Convert contract address to checksum format\n",
    "checksum_address = web3.to_checksum_address(contract_address)\n",
    "\n",
    "# Load the smart contract\n",
    "contract = web3.eth.contract(address=checksum_address, abi=abi)\n",
    "\n",
    "\n",
    "# Set the default sender address (first account from Ganache)\n",
    "web3.eth.default_account = web3.eth.accounts[0]\n",
    "\n",
    "\n",
    "print(f\"✅ Connected to Smart Contract at {contract_address}\")"
   ]
  },
  {
   "cell_type": "markdown",
   "id": "b4f79fa4",
   "metadata": {},
   "source": [
    "7. Call getTotalRecords() to check if the contract is responding.\n",
    "8. Store a dummy IoT data entry manually to test if transactions work:"
   ]
  },
  {
   "cell_type": "code",
   "execution_count": 3,
   "id": "3a8e0a5d",
   "metadata": {},
   "outputs": [
    {
     "name": "stdout",
     "output_type": "stream",
     "text": [
      "✅ Dummy data stored on blockchain!\n"
     ]
    }
   ],
   "source": [
    "txn = contract.functions.storeData(\"TEST001\", \"Temperature\", \"22.5°C\").transact({\n",
    "    'from': web3.eth.default_account,\n",
    "    'gas': 1000000\n",
    "})\n",
    "web3.eth.wait_for_transaction_receipt(txn)\n",
    "print(\"✅ Dummy data stored on blockchain!\")"
   ]
  },
  {
   "cell_type": "markdown",
   "id": "5b562126",
   "metadata": {},
   "source": [
    "9. Verify if data retrieval works:"
   ]
  },
  {
   "cell_type": "code",
   "execution_count": 4,
   "id": "fff38e9b",
   "metadata": {},
   "outputs": [
    {
     "name": "stdout",
     "output_type": "stream",
     "text": [
      "Total Records: 104\n",
      "First Stored Record: [1750264279, 'TEST001', 'Temperature', '22.5°C']\n"
     ]
    }
   ],
   "source": [
    "total_records = contract.functions.getTotalRecords().call()\n",
    "print(f\"Total Records: {total_records}\")\n",
    "\n",
    "\n",
    "record = contract.functions.getRecord(0).call()\n",
    "print(\"First Stored Record:\", record)\n"
   ]
  },
  {
   "cell_type": "markdown",
   "id": "4a4d6edc",
   "metadata": {},
   "source": []
  }
 ],
 "metadata": {
  "kernelspec": {
   "display_name": "Python 3",
   "language": "python",
   "name": "python3"
  },
  "language_info": {
   "codemirror_mode": {
    "name": "ipython",
    "version": 3
   },
   "file_extension": ".py",
   "mimetype": "text/x-python",
   "name": "python",
   "nbconvert_exporter": "python",
   "pygments_lexer": "ipython3",
   "version": "3.13.2"
  }
 },
 "nbformat": 4,
 "nbformat_minor": 5
}
